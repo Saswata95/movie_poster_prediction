{
 "cells": [
  {
   "cell_type": "markdown",
   "metadata": {},
   "source": [
    "# OSMOSIS 2019 \n",
    "\n",
    "Topic: Movie Poster To Genre\n"
   ]
  },
  {
   "cell_type": "raw",
   "metadata": {},
   "source": [
    "First We will fetch all the Posters from the CSV provided using the following script."
   ]
  },
  {
   "cell_type": "code",
   "execution_count": 4,
   "metadata": {},
   "outputs": [
    {
     "name": "stdout",
     "output_type": "stream",
     "text": [
      "Total Number Of Movies:40108\n",
      "0 Saving Image./Movie_Posters/114709.jpg\n",
      "1 Saving Image./Movie_Posters/113497.jpg\n",
      "2 Saving Image./Movie_Posters/113228.jpg\n",
      "3 Saving Image./Movie_Posters/114885.jpg\n",
      "4 Saving Image./Movie_Posters/113041.jpg\n",
      "5 Saving Image./Movie_Posters/113277.jpg\n",
      "6 Saving Image./Movie_Posters/114319.jpg\n",
      "7 Saving Image./Movie_Posters/112302.jpg\n",
      "8 Saving Image./Movie_Posters/114576.jpg\n",
      "9 Saving Image./Movie_Posters/113189.jpg\n"
     ]
    }
   ],
   "source": [
    "import numpy as np\n",
    "import pandas as pd\n",
    "from scipy import misc\n",
    "import matplotlib.pyplot as plt\n",
    "import requests\n",
    "\n",
    "movies = pd.read_csv(\"./MovieGenre.csv\", encoding=\"ISO-8859-1\")\n",
    "\n",
    "#print(movies.columns)\n",
    "\n",
    "length = len(movies)\n",
    "print(\"Total Number Of Movies:\" + str(length))\n",
    "\n",
    "\n",
    "#try:\n",
    "#    os.makedirs(\"/Movie_Posters\")\n",
    "#except OSError:\n",
    "#    print(\"Creation of path failed\")\n",
    "#else:\n",
    "#    print(\"Folder successfully created!\")\n",
    "\n",
    "for i in range(0, length+1):\n",
    "    try:\n",
    "        img_data = requests.get(movies.loc[i]['Poster']).content\n",
    "    except:\n",
    "        print('No URL Provided')\n",
    "    else:\n",
    "        img_name = './Movie_Posters/' +str(movies.loc[i]['imdbId'])+'.jpg'\n",
    "        print(str(i)+\" \"+\"Saving Image\" + img_name)\n",
    "        with open(img_name, 'wb') as handler:\n",
    "            handler.write(img_data)\n",
    "\n",
    "#print(movies.loc[1]['Title'])\n"
   ]
  },
  {
   "cell_type": "markdown",
   "metadata": {},
   "source": [
    "#### The First 10 records fetched using pandas with their corresponding posters."
   ]
  },
  {
   "cell_type": "code",
   "execution_count": 9,
   "metadata": {},
   "outputs": [
    {
     "name": "stdout",
     "output_type": "stream",
     "text": [
      "0 imdbId                                                   114709\n",
      "Imdb Link                    http://www.imdb.com/title/tt114709\n",
      "Title                                          Toy Story (1995)\n",
      "IMDB Score                                                  8.3\n",
      "Genre                                Animation|Adventure|Comedy\n",
      "Poster        https://images-na.ssl-images-amazon.com/images...\n",
      "Name: 0, dtype: object\n",
      "0 Saving Image./Posters_Checkpoint1/114709.jpg\n",
      "\n",
      "1 imdbId                                                   113497\n",
      "Imdb Link                    http://www.imdb.com/title/tt113497\n",
      "Title                                            Jumanji (1995)\n",
      "IMDB Score                                                  6.9\n",
      "Genre                                   Action|Adventure|Family\n",
      "Poster        https://images-na.ssl-images-amazon.com/images...\n",
      "Name: 1, dtype: object\n",
      "1 Saving Image./Posters_Checkpoint1/113497.jpg\n",
      "\n",
      "2 imdbId                                                   113228\n",
      "Imdb Link                    http://www.imdb.com/title/tt113228\n",
      "Title                                   Grumpier Old Men (1995)\n",
      "IMDB Score                                                  6.6\n",
      "Genre                                            Comedy|Romance\n",
      "Poster        https://images-na.ssl-images-amazon.com/images...\n",
      "Name: 2, dtype: object\n",
      "2 Saving Image./Posters_Checkpoint1/113228.jpg\n",
      "\n",
      "3 imdbId                                                   114885\n",
      "Imdb Link                    http://www.imdb.com/title/tt114885\n",
      "Title                                  Waiting to Exhale (1995)\n",
      "IMDB Score                                                  5.7\n",
      "Genre                                      Comedy|Drama|Romance\n",
      "Poster        https://images-na.ssl-images-amazon.com/images...\n",
      "Name: 3, dtype: object\n",
      "3 Saving Image./Posters_Checkpoint1/114885.jpg\n",
      "\n",
      "4 imdbId                                                   113041\n",
      "Imdb Link                    http://www.imdb.com/title/tt113041\n",
      "Title                        Father of the Bride Part II (1995)\n",
      "IMDB Score                                                  5.9\n",
      "Genre                                     Comedy|Family|Romance\n",
      "Poster        https://images-na.ssl-images-amazon.com/images...\n",
      "Name: 4, dtype: object\n",
      "4 Saving Image./Posters_Checkpoint1/113041.jpg\n",
      "\n",
      "5 imdbId                                                   113277\n",
      "Imdb Link                    http://www.imdb.com/title/tt113277\n",
      "Title                                               Heat (1995)\n",
      "IMDB Score                                                  8.2\n",
      "Genre                                        Action|Crime|Drama\n",
      "Poster        https://images-na.ssl-images-amazon.com/images...\n",
      "Name: 5, dtype: object\n",
      "5 Saving Image./Posters_Checkpoint1/113277.jpg\n",
      "\n",
      "6 imdbId                                                   114319\n",
      "Imdb Link                    http://www.imdb.com/title/tt114319\n",
      "Title                                            Sabrina (1995)\n",
      "IMDB Score                                                  6.3\n",
      "Genre                                              Comedy|Drama\n",
      "Poster        https://images-na.ssl-images-amazon.com/images...\n",
      "Name: 6, dtype: object\n",
      "6 Saving Image./Posters_Checkpoint1/114319.jpg\n",
      "\n",
      "7 imdbId                                                   112302\n",
      "Imdb Link                    http://www.imdb.com/title/tt112302\n",
      "Title                                       Tom and Huck (1995)\n",
      "IMDB Score                                                  5.6\n",
      "Genre                                    Adventure|Comedy|Drama\n",
      "Poster        https://images-na.ssl-images-amazon.com/images...\n",
      "Name: 7, dtype: object\n",
      "7 Saving Image./Posters_Checkpoint1/112302.jpg\n",
      "\n",
      "8 imdbId                                                   114576\n",
      "Imdb Link                    http://www.imdb.com/title/tt114576\n",
      "Title                                       Sudden Death (1995)\n",
      "IMDB Score                                                  5.7\n",
      "Genre                                     Action|Crime|Thriller\n",
      "Poster        https://images-na.ssl-images-amazon.com/images...\n",
      "Name: 8, dtype: object\n",
      "8 Saving Image./Posters_Checkpoint1/114576.jpg\n",
      "\n",
      "9 imdbId                                                   113189\n",
      "Imdb Link                    http://www.imdb.com/title/tt113189\n",
      "Title                                          GoldenEye (1995)\n",
      "IMDB Score                                                  7.2\n",
      "Genre                                 Action|Adventure|Thriller\n",
      "Poster        https://images-na.ssl-images-amazon.com/images...\n",
      "Name: 9, dtype: object\n",
      "9 Saving Image./Posters_Checkpoint1/113189.jpg\n",
      "\n"
     ]
    }
   ],
   "source": [
    "for i in range(0, 10):\n",
    "    print(str(i)+\" \"+str(movies.loc[i]))\n",
    "    \n",
    "    try:\n",
    "        img_data = requests.get(movies.loc[i]['Poster']).content\n",
    "    except:\n",
    "        print('No URL Provided')\n",
    "    else:\n",
    "        img_name = './Posters_Checkpoint1/' +str(movies.loc[i]['imdbId'])+'.jpg'\n",
    "        print(str(i)+\" \"+\"Saving Image\" + img_name+\"\\n\")\n",
    "        with open(img_name, 'wb') as handler:\n",
    "            handler.write(img_data)"
   ]
  },
  {
   "cell_type": "markdown",
   "metadata": {},
   "source": [
    "#### The Last 10 records fetched using pandas with their corresponding posters."
   ]
  },
  {
   "cell_type": "code",
   "execution_count": 10,
   "metadata": {},
   "outputs": [
    {
     "name": "stdout",
     "output_type": "stream",
     "text": [
      "40098 imdbId                                                   229480\n",
      "Imdb Link                    http://www.imdb.com/title/tt229480\n",
      "Title                                    Island of Blood (1982)\n",
      "IMDB Score                                                  4.7\n",
      "Genre                                   Horror|Mystery|Thriller\n",
      "Poster        https://images-na.ssl-images-amazon.com/images...\n",
      "Name: 40098, dtype: object\n",
      "40098 Saving Image./Posters_Checkpoint1/229480.jpg\n",
      "\n",
      "40099 imdbId                                                    93991\n",
      "Imdb Link                     http://www.imdb.com/title/tt93991\n",
      "Title                   Slave Girls from Beyond Infinity (1987)\n",
      "IMDB Score                                                  4.5\n",
      "Genre                                   Action|Adventure|Comedy\n",
      "Poster        https://images-na.ssl-images-amazon.com/images...\n",
      "Name: 40099, dtype: object\n",
      "40099 Saving Image./Posters_Checkpoint1/93991.jpg\n",
      "\n",
      "40100 imdbId                                                    98216\n",
      "Imdb Link                     http://www.imdb.com/title/tt98216\n",
      "Title              Roller Blade Warriors: Taken by Force (1989)\n",
      "IMDB Score                                                  3.9\n",
      "Genre                                   Action|Adventure|Sci-Fi\n",
      "Poster        https://images-na.ssl-images-amazon.com/images...\n",
      "Name: 40100, dtype: object\n",
      "40100 Saving Image./Posters_Checkpoint1/98216.jpg\n",
      "\n",
      "40101 imdbId                                                    88757\n",
      "Imdb Link                     http://www.imdb.com/title/tt88757\n",
      "Title                                     Avenging Angel (1985)\n",
      "IMDB Score                                                  4.7\n",
      "Genre                                     Action|Crime|Thriller\n",
      "Poster        https://images-na.ssl-images-amazon.com/images...\n",
      "Name: 40101, dtype: object\n",
      "40101 Saving Image./Posters_Checkpoint1/88757.jpg\n",
      "\n",
      "40102 imdbId                                                    83291\n",
      "Imdb Link                     http://www.imdb.com/title/tt83291\n",
      "Title                                     Los violadores (1981)\n",
      "IMDB Score                                                  5.5\n",
      "Genre                                           Action|Thriller\n",
      "Poster        https://images-na.ssl-images-amazon.com/images...\n",
      "Name: 40102, dtype: object\n",
      "40102 Saving Image./Posters_Checkpoint1/83291.jpg\n",
      "\n",
      "40103 imdbId                                                    83168\n",
      "Imdb Link                     http://www.imdb.com/title/tt83168\n",
      "Title                                     Tanya's Island (1980)\n",
      "IMDB Score                                                  4.3\n",
      "Genre                                                     Drama\n",
      "Poster        https://images-na.ssl-images-amazon.com/images...\n",
      "Name: 40103, dtype: object\n",
      "40103 Saving Image./Posters_Checkpoint1/83168.jpg\n",
      "\n",
      "40104 imdbId                                                    82875\n",
      "Imdb Link                     http://www.imdb.com/title/tt82875\n",
      "Title                                     Pacific Banana (1981)\n",
      "IMDB Score                                                  4.7\n",
      "Genre                                                    Comedy\n",
      "Poster        https://images-na.ssl-images-amazon.com/images...\n",
      "Name: 40104, dtype: object\n",
      "40104 Saving Image./Posters_Checkpoint1/82875.jpg\n",
      "\n",
      "40105 imdbId                                                   815258\n",
      "Imdb Link                    http://www.imdb.com/title/tt815258\n",
      "Title                        Werewolf in a Womens Prison (2006)\n",
      "IMDB Score                                                  4.5\n",
      "Genre                                                    Horror\n",
      "Poster        https://images-na.ssl-images-amazon.com/images...\n",
      "Name: 40105, dtype: object\n",
      "40105 Saving Image./Posters_Checkpoint1/815258.jpg\n",
      "\n",
      "40106 imdbId                                                    79142\n",
      "Imdb Link                     http://www.imdb.com/title/tt79142\n",
      "Title                                    Xiao zi ming da (1979)\n",
      "IMDB Score                                                  6.5\n",
      "Genre                                             Action|Comedy\n",
      "Poster        https://images-na.ssl-images-amazon.com/images...\n",
      "Name: 40106, dtype: object\n",
      "40106 Saving Image./Posters_Checkpoint1/79142.jpg\n",
      "\n",
      "40107 imdbId                                    70710\n",
      "Imdb Link     http://www.imdb.com/title/tt70710\n",
      "Title                           Snatched (1973)\n",
      "IMDB Score                                  6.5\n",
      "Genre                      Crime|Drama|Thriller\n",
      "Poster                                      NaN\n",
      "Name: 40107, dtype: object\n",
      "No URL Provided\n"
     ]
    }
   ],
   "source": [
    "for i in range(length-10, length):\n",
    "    print(str(i)+\" \"+str(movies.loc[i]))\n",
    "    \n",
    "    try:\n",
    "        img_data = requests.get(movies.loc[i]['Poster']).content\n",
    "    except:\n",
    "        print('No URL Provided')\n",
    "    else:\n",
    "        img_name = './Posters_Checkpoint1/' +str(movies.loc[i]['imdbId'])+'.jpg'\n",
    "        print(str(i)+\" \"+\"Saving Image\" + img_name+\"\\n\")\n",
    "        with open(img_name, 'wb') as handler:\n",
    "            handler.write(img_data)"
   ]
  },
  {
   "cell_type": "markdown",
   "metadata": {},
   "source": [
    "#### Next We will Analyse the Data Distribution"
   ]
  },
  {
   "cell_type": "code",
   "execution_count": 9,
   "metadata": {},
   "outputs": [
    {
     "name": "stdout",
     "output_type": "stream",
     "text": [
      "Total Number of Unique Genres are: 29\n",
      "Total Number of Movies With Multiple Genres: 29365\n"
     ]
    }
   ],
   "source": [
    "genre_list = []\n",
    "mov_mul_genre = []\n",
    "\n",
    "for n in range(0, length):\n",
    "    genres = str(movies.loc[n]['Genre'])\n",
    "    if '|' in genres:\n",
    "        mov_mul_genre.append(str(movies.loc[n]['Title']))\n",
    "    genres_l = genres.split('|')\n",
    "    genre_list.extend(genres_l)\n",
    "    \n",
    "unique_genres = list(set(genre_list))\n",
    "    \n",
    "print(\"Total Number of Unique Genres are: \" + str(len(unique_genres)))\n",
    "\n",
    "print(\"Total Number of Movies With Multiple Genres: \" + str(len(mov_mul_genre)))"
   ]
  },
  {
   "cell_type": "markdown",
   "metadata": {},
   "source": [
    "#### Number of movies from each genre"
   ]
  },
  {
   "cell_type": "code",
   "execution_count": 22,
   "metadata": {},
   "outputs": [
    {
     "name": "stdout",
     "output_type": "stream",
     "text": [
      "History: 1426\n",
      "Thriller: 4816\n",
      "Action: 5331\n",
      "Adult: 14\n",
      "Mystery: 2395\n",
      "Musical: 845\n",
      "Film-Noir: 403\n",
      "Reality-TV: 2\n",
      "Animation: 1750\n",
      "Horror: 3990\n",
      "nan: 145\n",
      "Sport: 707\n",
      "Music: 1292\n",
      "Comedy: 12682\n",
      "Talk-Show: 7\n",
      "Crime: 5270\n",
      "Sci-Fi: 2020\n",
      "Drama: 20053\n",
      "News: 83\n",
      "Short: 1066\n",
      "Biography: 1999\n",
      "Fantasy: 2012\n",
      "Documentary: 3882\n",
      "Western: 853\n",
      "Adventure: 3829\n",
      "Family: 2100\n",
      "War: 1173\n",
      "Game-Show: 1\n",
      "Romance: 6224\n"
     ]
    },
    {
     "data": {
      "image/png": "[encoded data removed]",
      "text/plain": [
       "<Figure size 432x288 with 1 Axes>"
      ]
     },
     "metadata": {
      "needs_background": "light"
     },
     "output_type": "display_data"
    }
   ],
   "source": [
    "cnt_list = []\n",
    "\n",
    "for gnr in unique_genres:\n",
    "    cnt = genre_list.count(gnr)\n",
    "    cnt_list.append(cnt)\n",
    "    print(gnr + \": \" + str(cnt))\n",
    "    \n",
    "#Creating a Bar Graph to represent the data\n",
    "\n",
    "y_axis = np.arange(len(unique_genres))\n",
    "plt.bar(y_axis, cnt_list, align='center', alpha=0.8, color='green', edgecolor='black')\n",
    "plt.xticks(y_axis, unique_genres, rotation='vertical')\n",
    "plt.ylabel('Number of Movies')\n",
    "plt.title('Total number of movies for each genre')\n",
    "plt.show()"
   ]
  },
  {
   "cell_type": "code",
   "execution_count": null,
   "metadata": {},
   "outputs": [],
   "source": []
  }
 ],
 "metadata": {
  "kernelspec": {
   "display_name": "Python 3",
   "language": "python",
   "name": "python3"
  },
  "language_info": {
   "codemirror_mode": {
    "name": "ipython",
    "version": 3
   },
   "file_extension": ".py",
   "mimetype": "text/x-python",
   "name": "python",
   "nbconvert_exporter": "python",
   "pygments_lexer": "ipython3",
   "version": "3.7.1"
  }
 },
 "nbformat": 4,
 "nbformat_minor": 2
}
